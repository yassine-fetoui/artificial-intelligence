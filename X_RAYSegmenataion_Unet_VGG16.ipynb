{
  "nbformat": 4,
  "nbformat_minor": 0,
  "metadata": {
    "colab": {
      "private_outputs": true,
      "provenance": [],
      "mount_file_id": "113Of4wtO2YTOBPcvyAtGbslVU7i1nvt3",
      "authorship_tag": "ABX9TyNNg4xdiTMSUzCGBbE+y504",
      "include_colab_link": true
    },
    "kernelspec": {
      "name": "python3",
      "display_name": "Python 3"
    },
    "language_info": {
      "name": "python"
    }
  },
  "cells": [
    {
      "cell_type": "markdown",
      "metadata": {
        "id": "view-in-github",
        "colab_type": "text"
      },
      "source": [
        "<a href=\"https://colab.research.google.com/github/yassine-fetoui/artificial-intelligence/blob/main/X_RAYSegmenataion_Unet_VGG16.ipynb\" target=\"_parent\"><img src=\"https://colab.research.google.com/assets/colab-badge.svg\" alt=\"Open In Colab\"/></a>"
      ]
    },
    {
      "cell_type": "code",
      "execution_count": null,
      "metadata": {
        "id": "AHPvMIgj4rUa"
      },
      "outputs": [],
      "source": [
        "import numpy as np\n",
        "import pandas as pd\n",
        "import json\n",
        "import matplotlib.pyplot as plt\n",
        "import seaborn as sns\n",
        "import cv2"
      ]
    },
    {
      "cell_type": "code",
      "source": [
        "!pip install -q kaggle\n"
      ],
      "metadata": {
        "id": "hJ1HIDbp6BZV"
      },
      "execution_count": null,
      "outputs": []
    },
    {
      "cell_type": "code",
      "source": [
        "\n",
        "!cp '/content/drive/MyDrive/kaggle.json' ~/.kaggle\n",
        "!chmod 600 ~/.kaggle/kaggle.json"
      ],
      "metadata": {
        "id": "ifr_et3-6ODi"
      },
      "execution_count": null,
      "outputs": []
    },
    {
      "cell_type": "code",
      "source": [
        "!mkdir ~/.kaggle\n",
        "!cp '/content/drive/MyDrive/kaggle.json' ~/.kaggle\n",
        "!chmod 600 ~/.kaggle/kaggle.json"
      ],
      "metadata": {
        "id": "_xHxNS2A6IK5"
      },
      "execution_count": null,
      "outputs": []
    },
    {
      "cell_type": "code",
      "source": [
        "\n",
        "!kaggle datasets download -d henriquerezermosqur/dental-x-ray-computacional-vision-segmentation"
      ],
      "metadata": {
        "id": "9wa3jFfV66IE"
      },
      "execution_count": null,
      "outputs": []
    },
    {
      "cell_type": "code",
      "source": [
        "!unzip /content/dental-x-ray-computacional-vision-segmentation.zip"
      ],
      "metadata": {
        "id": "myvAWNXT7CAH"
      },
      "execution_count": null,
      "outputs": []
    },
    {
      "source": [
        "import json\n",
        "\n",
        "# Open the file in read mode ('r')\n",
        "with open('/content/train_annotations.coco.json', 'r') as f:\n",
        "    # Load JSON data from the opened file\n",
        "    data = json.load(f)"
      ],
      "cell_type": "code",
      "metadata": {
        "id": "105Nasvj8uSj"
      },
      "execution_count": null,
      "outputs": []
    },
    {
      "cell_type": "code",
      "source": [
        "data.keys()"
      ],
      "metadata": {
        "id": "DyJoez2XX_Pd"
      },
      "execution_count": null,
      "outputs": []
    },
    {
      "cell_type": "code",
      "source": [
        "data['images']\n"
      ],
      "metadata": {
        "id": "fRlogDmu8wek"
      },
      "execution_count": null,
      "outputs": []
    },
    {
      "cell_type": "code",
      "source": [
        "data.items()"
      ],
      "metadata": {
        "id": "WU6z5HdWWEAj"
      },
      "execution_count": null,
      "outputs": []
    },
    {
      "cell_type": "code",
      "source": [
        "categories = data['categories']\n"
      ],
      "metadata": {
        "id": "OWE0qIPx9i--"
      },
      "execution_count": null,
      "outputs": []
    },
    {
      "cell_type": "code",
      "source": [
        "categories = {cat['id']: cat['name'] for cat in\n",
        "data['categories']}\n",
        "images = {img['id']: img['file_name'] for img in data['images']}"
      ],
      "metadata": {
        "id": "rA5XBCPB9tnj"
      },
      "execution_count": null,
      "outputs": []
    },
    {
      "cell_type": "code",
      "source": [
        "x=images.keys\n"
      ],
      "metadata": {
        "id": "OCQr2oNc9wVF"
      },
      "execution_count": null,
      "outputs": []
    },
    {
      "cell_type": "code",
      "source": [
        "x"
      ],
      "metadata": {
        "id": "RziTVQZMBrp7"
      },
      "execution_count": null,
      "outputs": []
    },
    {
      "cell_type": "code",
      "source": [
        "images"
      ],
      "metadata": {
        "collapsed": true,
        "id": "_jcAZLAP-OAL"
      },
      "execution_count": null,
      "outputs": []
    },
    {
      "cell_type": "code",
      "source": [
        "len(images)\n"
      ],
      "metadata": {
        "id": "keDvnuri-W5H"
      },
      "execution_count": null,
      "outputs": []
    },
    {
      "cell_type": "code",
      "source": [
        "list(categories.items())"
      ],
      "metadata": {
        "id": "wBxv7GZ7-8rF"
      },
      "execution_count": null,
      "outputs": []
    },
    {
      "cell_type": "code",
      "source": [
        "df_categories=pd.DataFrame(list(categories.items()),columns=['Category_ID',\n",
        "'Category_Name'])\n"
      ],
      "metadata": {
        "id": "UHbfC2Uo-trX"
      },
      "execution_count": null,
      "outputs": []
    },
    {
      "cell_type": "code",
      "source": [
        "df_categories"
      ],
      "metadata": {
        "id": "k_kNsr9n_TMc"
      },
      "execution_count": null,
      "outputs": []
    },
    {
      "cell_type": "code",
      "source": [
        "df_images=pd.DataFrame((list(images.items())),columns=['Image_ID',\n",
        "'Image_Name'])"
      ],
      "metadata": {
        "id": "2ayPCzwdAiDx"
      },
      "execution_count": null,
      "outputs": []
    },
    {
      "cell_type": "code",
      "source": [
        "df_images.head()"
      ],
      "metadata": {
        "id": "Y55X183lBwGU"
      },
      "execution_count": null,
      "outputs": []
    },
    {
      "cell_type": "code",
      "source": [
        "df_images.info()"
      ],
      "metadata": {
        "id": "PbjlKPYkB0fq"
      },
      "execution_count": null,
      "outputs": []
    },
    {
      "cell_type": "code",
      "source": [
        "def images_mask_load(image_path,mask_path):\n",
        "  image=cv2.imread(image_path)\n",
        "  image=cv2.cvtColor(image,cv2.COLOR_BGR2RGB)\n",
        "  mask=cv2.imread(mask_path,0)\n",
        "  return image,mask"
      ],
      "metadata": {
        "id": "gSwAVmA0B4Vb"
      },
      "execution_count": null,
      "outputs": []
    },
    {
      "cell_type": "code",
      "source": [
        "def plot_image_mask(image,masks, categoties,category_names):\n",
        "  fig, axes = plt.subplots(2, 4, figsize=(15, 15))\n",
        "  for i,(image_path,mask_path,category) in enumerate(zip(images,masks,categories)):\n",
        "    image,mask=images_mask_load(image_path,mask_path)\n",
        "    #row=i//4\n",
        "    #col=i%4\n",
        "    row,colomn=divmod(i,4)\n",
        "    ax_img=axes[0,colomn]\n",
        "    ax_img.imshow(image)\n",
        "    ax_img.set_title('Image')\n",
        "    ax_img.axis('off')\n",
        "    ax_img.set_title(f\"Categoria: {category_names[category]}\")\n",
        "    ax_mask=axes[1,colomn]\n",
        "    ax_mask.imshow(image)\n",
        "    ax_mask.imshow(mask, cmap='jet', alpha=0.65)\n",
        "    ax_mask.set_title('Mask')\n",
        "    ax_mask.axis('off')\n",
        "  plt.subplots_adjust(wspace=0, hspace=0)\n",
        "  plt.tight_layout()\n",
        "  plt.show()\n"
      ],
      "metadata": {
        "id": "DB8qqQ_2ECm8"
      },
      "execution_count": null,
      "outputs": []
    },
    {
      "cell_type": "code",
      "source": [],
      "metadata": {
        "id": "pwBmq2DqTaCH"
      },
      "execution_count": null,
      "outputs": []
    },
    {
      "cell_type": "code",
      "source": [
        "category_names=dict(list(categories.items())[:4])"
      ],
      "metadata": {
        "id": "hjMiJJCMKWQM"
      },
      "execution_count": null,
      "outputs": []
    },
    {
      "cell_type": "code",
      "source": [
        "category_names"
      ],
      "metadata": {
        "id": "p047DZl0TuvR"
      },
      "execution_count": null,
      "outputs": []
    },
    {
      "cell_type": "code",
      "source": [
        "categoryy=list(categories.keys())[:4]"
      ],
      "metadata": {
        "id": "nXUADiCzTFkd"
      },
      "execution_count": null,
      "outputs": []
    },
    {
      "cell_type": "code",
      "source": [
        "categoryy"
      ],
      "metadata": {
        "id": "xuvct1bhTsyj"
      },
      "execution_count": null,
      "outputs": []
    },
    {
      "cell_type": "code",
      "source": [
        "import os"
      ],
      "metadata": {
        "id": "2QLDM91uStiO"
      },
      "execution_count": null,
      "outputs": []
    },
    {
      "cell_type": "code",
      "source": [
        "\n",
        "category_names = {0: 'vzrad2', 1: 'Caries', 2: 'Crown', 3: 'Filling'}\n",
        "image_dir = '/content/Dental X_Ray/train'\n",
        "mask_dir = '/content/Dental X_Ray/train/train_mask'\n",
        "images=[\n",
        "os.path.join(image_dir, '0a4f2d22-Hematian_Fariba_57y_31052021_132542_jpg.rf.6bfcf8cfb273a9a0767ea25499da98bc.jpg'),\n",
        "os.path.join(image_dir, \"3975890000-jpg_png_jpg.rf.1d1b03af3734eba73e9d12a295578027.jpg\"),\n",
        "os.path.join(image_dir, '4054820000-jpg_png_jpg.rf.1d4a4d0a6fd081280376d10fc085cffa.jpg'),\n",
        "os.path.join(image_dir, '3794860000-jpg_png_jpg.rf.1cb8e683ddd8a1131d0ffd0c53ee4ac0.jpg')\n",
        "]\n",
        "masks = [\n",
        " os.path.join(mask_dir, '0a4f2d22-Hematian_Fariba_57y_31052021_132542_jpg.rf.6bfcf8cfb273a9a0767ea25499da98bc.jpg_mask.png'),\n",
        " os.path.join(mask_dir, '3975890000-jpg_png_jpg.rf.1d1b03af3734eba73e9d12a295578027.jpg_mask.png'),\n",
        " os.path.join(mask_dir, '4054820000-jpg_png_jpg.rf.1d4a4d0a6fd081280376d10fc085cffa.jpg_mask.png'),\n",
        " os.path.join(mask_dir, '3794860000-jpg_png_jpg.rf.1cb8e683ddd8a1131d0ffd0c53ee4ac0.jpg_mask.png')\n",
        "]\n"
      ],
      "metadata": {
        "id": "REJSSA0qFLpt"
      },
      "execution_count": null,
      "outputs": []
    },
    {
      "cell_type": "code",
      "source": [
        "plot_image_mask(images, masks, categoryy, category_names)\n"
      ],
      "metadata": {
        "id": "2uYlvycOFQ8K"
      },
      "execution_count": null,
      "outputs": []
    },
    {
      "cell_type": "code",
      "source": [
        "!pip install Pillow\n"
      ],
      "metadata": {
        "id": "BPlIOYIjhqwD"
      },
      "execution_count": null,
      "outputs": []
    },
    {
      "cell_type": "code",
      "source": [
        "from PIL import Image\n"
      ],
      "metadata": {
        "id": "UVTXtRDOhE6E"
      },
      "execution_count": null,
      "outputs": []
    },
    {
      "cell_type": "code",
      "source": [
        "ii=Image.open(images[0])"
      ],
      "metadata": {
        "id": "J-YcUvUmjfAm"
      },
      "execution_count": null,
      "outputs": []
    },
    {
      "cell_type": "code",
      "source": [
        "from PIL import Image\n",
        "from tensorflow.keras.applications import VGG16\n",
        "from tensorflow.keras.layers import Input, Conv2D, MaxPooling2D,Conv2DTranspose, concatenate\n",
        "from tensorflow.keras.models import Model\n",
        "from tensorflow.keras.optimizers import Adam\n",
        "\n",
        "\n",
        "def load_annotaion(json_file):\n",
        "  with open(json_file,\"r\") as f :\n",
        "    annotaions=json.load(f)\n",
        "  return annotaions\n",
        "\n",
        "def load_image_and_mask(image_path, mask_path, target_size=(256,\n",
        "256)):\n",
        " image = Image.open(image_path).convert('RGB')\n",
        " mask = Image.open(mask_path).convert('L')\n",
        " image = image.resize(target_size, Image.Resampling.LANCZOS)\n",
        " mask = mask.resize(target_size, Image.Resampling.LANCZOS)\n",
        " image = np.array(image)\n",
        " mask = np.array(mask)\n",
        " return image, mask\n",
        "\n",
        "\n"
      ],
      "metadata": {
        "id": "1GS5_SrKFoL3"
      },
      "execution_count": null,
      "outputs": []
    },
    {
      "cell_type": "code",
      "source": [],
      "metadata": {
        "id": "7KAQNLf1hy-4"
      },
      "execution_count": null,
      "outputs": []
    },
    {
      "cell_type": "code",
      "source": [],
      "metadata": {
        "id": "CQsYfPG4h7Hj"
      },
      "execution_count": null,
      "outputs": []
    },
    {
      "cell_type": "code",
      "source": [
        "image_name = 'image1.jpg'\n",
        "mask_file_name = os.path.splitext(image_name)[0] + '_mask.png'\n",
        "print(mask_file_name)"
      ],
      "metadata": {
        "id": "StGMNmdd6UZo"
      },
      "execution_count": null,
      "outputs": []
    },
    {
      "cell_type": "code",
      "source": [
        "def visiualize_batch(images, masks) :\n",
        "  batch_size=len(images)\n",
        "  fig,axes = plt.subplots(batch_size,2, figsize=(10,5*batch_size))\n",
        "\n",
        "  for i in range(batch_size):\n",
        "    ax_img=axes[i,0]\n",
        "    ax_img.imshow(images[i])\n",
        "    ax_img.axis('off')\n",
        "    ax_mask=axes[i,1]\n",
        "    ax_mask.imshow(masks[i], cmap='gray')\n",
        "    ax_mask.axis('off')\n",
        "    ax_mask.axis('off')\n",
        "  plt.tight_layout()\n",
        "  plt.show()\n",
        "\n",
        "def dataset_generator(image_dir,mask_dir,annotations,batch_size,target_size=(256,256)):\n",
        "  image_info=annotations['images']\n",
        "  while True :\n",
        "    np.random.shuffle(image_info)\n",
        "    for i in range(0,len(image_info),batch_size):\n",
        "      images=[]\n",
        "      masks=[]\n",
        "      for j in range(i,min(i+batch_size,len(image_info))):\n",
        "        image_data=image_info[j]\n",
        "        image_name=image_data['file_name']\n",
        "        image_path=os.path.join(image_dir,image_name)\n",
        "        mask_name= f\"{image_name}_mask.png\"\n",
        "        mask_path=os.path.join(mask_dir,mask_name)\n",
        "        image ,mask=load_image_and_mask(image_path,mask_path)\n",
        "        images.append(image/255.0)\n",
        "        masks.append(mask/255.0)\n",
        "      images=np.array(images)\n",
        "      masks=np.array(masks)\n",
        "      yield images,masks\n",
        "\n",
        "\n"
      ],
      "metadata": {
        "id": "XRj2fi8zfsvB"
      },
      "execution_count": null,
      "outputs": []
    },
    {
      "cell_type": "code",
      "source": [],
      "metadata": {
        "id": "b4UF0Vln5MKf"
      },
      "execution_count": null,
      "outputs": []
    },
    {
      "cell_type": "code",
      "source": [
        "!wget \"https://lmb.informatik.uni-freiburg.de/people/ronneber/u-net/u-net-architecture.png\""
      ],
      "metadata": {
        "id": "Gonx1vfIst3N"
      },
      "execution_count": null,
      "outputs": []
    },
    {
      "cell_type": "code",
      "source": [
        "!wget \"/content/Network-architecture-of-U-Net-with-VGG16-encoder.png\""
      ],
      "metadata": {
        "id": "Bvpjihowo-qu"
      },
      "execution_count": null,
      "outputs": []
    },
    {
      "cell_type": "code",
      "source": [
        "from IPython.display import Image\n",
        "Image(filename='/content/Network-architecture-of-U-Net-with-VGG16-encoder.png')"
      ],
      "metadata": {
        "id": "CB_v9T-Gsz2r"
      },
      "execution_count": null,
      "outputs": []
    },
    {
      "cell_type": "code",
      "source": [],
      "metadata": {
        "id": "cVFoLzaGs9gQ"
      },
      "execution_count": null,
      "outputs": []
    },
    {
      "cell_type": "code",
      "source": [
        "from IPython.display import Image\n",
        "Image(filename='/content/11042_2024_19022_Fig8_HTML.png')"
      ],
      "metadata": {
        "id": "VokTIoxhpU0E"
      },
      "execution_count": null,
      "outputs": []
    },
    {
      "cell_type": "code",
      "source": [
        "from IPython.display import Image\n",
        "Image(filename='/content/11042_2024_19022_Fig8_HTML.png')"
      ],
      "metadata": {
        "id": "WD3ILU0hssiY"
      },
      "execution_count": null,
      "outputs": []
    },
    {
      "cell_type": "code",
      "source": [
        "def unet_VGG16_model(input_shape):\n",
        "\n",
        "\n",
        "  #VGG16 Structure\n",
        "  vgg16=VGG16(weights='imagenet',include_top=False,input_tensor=Input(shape=input_shape))\n",
        "  # include_top=False =>excluding the fully connected layers\n",
        "  for layer in vgg16.layers:\n",
        "    layer.trainable=False\n",
        "  inputs=vgg16.input\n",
        "\n",
        "  #x= Conv2D(64,(3,3),activation='relu',padding='same')(vgg16_output)\n",
        "  #x=Conv2D(128,(3,3),activation='relu',padding='same')(x)\n",
        "  cnv1=vgg16.get_layer('block1_conv2').output\n",
        "  mp1=MaxPooling2D((2,2),strides=(2,2))(cnv1)\n",
        "  cnv2=vgg16.get_layer('block2_conv2').output\n",
        "  mp1=MaxPooling2D((2,2),strides=(2,2))(cnv2)\n",
        "  cnv3=vgg16.get_layer('block3_conv3').output\n",
        "  cnv4=vgg16.get_layer('block4_conv3').output\n",
        "  #UNET Structre\n",
        "  u5=Conv2DTranspose(256,(2,2),strides=(2,2),padding='same')(cnv4)\n",
        "  u5=concatenate([u5,cnv3])\n",
        "  cnv5=Conv2D(256,(3,3),activation='relu',padding='same')(u5)\n",
        "  cnv5=Conv2D(256,(3,3),activation='relu',padding='same')(cnv5)\n",
        "  u6=Conv2DTranspose(128,(2,2),strides=(2,2),padding='same')(cnv5)\n",
        "  u6=concatenate([u6,cnv2])\n",
        "  cnv6=Conv2D(128,(3,3),activation='relu',padding='same')(u6)\n",
        "  cnv6=Conv2D(128,(3,3),activation='relu',padding='same')(cnv6)\n",
        "  u7=Conv2DTranspose(64,(2,2),strides=(2,2),padding='same')(cnv6)\n",
        "  u7=concatenate([u7,cnv1])\n",
        "  cnv7=Conv2D(64,(3,3),activation='relu',padding='same')(u7)\n",
        "  cnv7=Conv2D(64,(3,3),activation='relu',padding='same')(cnv7)\n",
        "  outputs=Conv2D(1,(1,1),activation='sigmoid')(cnv7)\n",
        "  model=Model(inputs=inputs,outputs=outputs)\n",
        "  return model\n",
        "\n",
        "\n",
        "\n",
        "\n"
      ],
      "metadata": {
        "id": "U3-o01uvkgLP"
      },
      "execution_count": null,
      "outputs": []
    },
    {
      "cell_type": "code",
      "source": [
        "input_shape=(256,256,3)\n",
        "model=unet_VGG16_model(input_shape)\n",
        "batch_size=8"
      ],
      "metadata": {
        "id": "ZckG7GK-o9uW"
      },
      "execution_count": null,
      "outputs": []
    },
    {
      "cell_type": "code",
      "source": [
        "train_image_dir = '/content/Dental X_Ray/train'\n",
        "train_mask_dir = '/content/Dental X_Ray/train/train_mask'\n",
        "train_annotation_file = '/content/train_annotations.coco.json'\n",
        "valid_image_dir = '/content/Dental X_Ray/valid'\n",
        "valid_mask_dir = '/content/Dental X_Ray/valid/valid_mask'\n",
        "valid_annotation_file = '/content/valid_annotations.coco.json'\n",
        "train_annotations = load_annotaion(train_annotation_file)\n",
        "valid_annotations = load_annotaion(valid_annotation_file)\n",
        "train_data = dataset_generator(train_image_dir, train_mask_dir,\n",
        "                                train_annotations, batch_size,\n",
        "                                target_size=(256, 256))\n",
        "valid_data = dataset_generator(valid_image_dir, valid_mask_dir,\n",
        "valid_annotations, batch_size, target_size=(256, 256))"
      ],
      "metadata": {
        "id": "7F2yeTz5kinR"
      },
      "execution_count": null,
      "outputs": []
    },
    {
      "cell_type": "code",
      "source": [
        "train_annotations['images']"
      ],
      "metadata": {
        "id": "fSmbahvq3sFz"
      },
      "execution_count": null,
      "outputs": []
    },
    {
      "cell_type": "code",
      "source": [
        "len(images)"
      ],
      "metadata": {
        "id": "GvjtgxZvDMnp"
      },
      "execution_count": null,
      "outputs": []
    },
    {
      "cell_type": "code",
      "source": [
        "images , mask = next(train_data)\n",
        "visiualize_batch(images,mask)\n",
        "train_steps_per_epoch = len(train_annotations['images']) // batch_size\n",
        "valid_steps_per_epoch = len(valid_annotations['images']) // batch_size"
      ],
      "metadata": {
        "id": "5aO9DBVPkk7B"
      },
      "execution_count": null,
      "outputs": []
    },
    {
      "cell_type": "code",
      "source": [
        "print(train_steps_per_epoch)\n",
        "print(valid_steps_per_epoch)"
      ],
      "metadata": {
        "id": "80nECp77DUnt"
      },
      "execution_count": null,
      "outputs": []
    },
    {
      "cell_type": "code",
      "source": [
        "model=unet_VGG16_model(input_shape)\n",
        "model.compile(optimizer=Adam(learning_rate=0.0001),\n",
        "              loss='binary_crossentropy',metrics=['accuracy'])\n"
      ],
      "metadata": {
        "id": "Po4EYj5RDpwo"
      },
      "execution_count": null,
      "outputs": []
    },
    {
      "cell_type": "code",
      "source": [
        "model.summary()"
      ],
      "metadata": {
        "id": "ERP186A4D04Q"
      },
      "execution_count": null,
      "outputs": []
    },
    {
      "cell_type": "code",
      "source": [
        "history = model.fit(\n",
        " train_data,\n",
        " steps_per_epoch=train_steps_per_epoch,\n",
        " validation_data=valid_data,\n",
        " validation_steps=valid_steps_per_epoch,\n",
        " epochs=7,\n",
        " verbose=1\n",
        ")\n"
      ],
      "metadata": {
        "id": "b_8I7OQwExsh"
      },
      "execution_count": null,
      "outputs": []
    }
  ]
}