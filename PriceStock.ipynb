{
  "nbformat": 4,
  "nbformat_minor": 0,
  "metadata": {
    "colab": {
      "private_outputs": true,
      "provenance": [],
      "authorship_tag": "ABX9TyPQthjizbktgS4unuw76yVu"
    },
    "kernelspec": {
      "name": "python3",
      "display_name": "Python 3"
    },
    "language_info": {
      "name": "python"
    }
  },
  "cells": [
    {
      "cell_type": "code",
      "execution_count": null,
      "metadata": {
        "id": "Qwoi69MagbKU"
      },
      "outputs": [],
      "source": [
        "import yfinance as yf"
      ]
    },
    {
      "cell_type": "code",
      "source": [
        "sp500=yf.Ticker(\"^GSPC\")"
      ],
      "metadata": {
        "id": "aVNvLjBrhFnX"
      },
      "execution_count": null,
      "outputs": []
    },
    {
      "cell_type": "code",
      "source": [
        "sp500=sp500.history(period=\"max\")"
      ],
      "metadata": {
        "id": "4PD003gfhHcf"
      },
      "execution_count": null,
      "outputs": []
    },
    {
      "cell_type": "code",
      "source": [
        "sp500"
      ],
      "metadata": {
        "id": "2PodyxbNhQRa"
      },
      "execution_count": null,
      "outputs": []
    },
    {
      "cell_type": "code",
      "source": [
        "sp500.index"
      ],
      "metadata": {
        "id": "l8yb02sviieh"
      },
      "execution_count": null,
      "outputs": []
    },
    {
      "cell_type": "code",
      "source": [
        "sp500.plot.line(y=\"Close\",use_index=True)"
      ],
      "metadata": {
        "id": "SxlZ_NFfzimB"
      },
      "execution_count": null,
      "outputs": []
    },
    {
      "cell_type": "code",
      "source": [
        "del sp500['Dividends']\n",
        "del sp500['Stock Splits']"
      ],
      "metadata": {
        "id": "sd3XDS_uz3Zh"
      },
      "execution_count": null,
      "outputs": []
    },
    {
      "cell_type": "code",
      "source": [
        "sp500[\"Tomorrow\"]=sp500[\"Close\"].shift(-1)"
      ],
      "metadata": {
        "id": "2fY8chXc0TG6"
      },
      "execution_count": null,
      "outputs": []
    },
    {
      "cell_type": "code",
      "source": [
        "sp500"
      ],
      "metadata": {
        "id": "tQLctia64jR7"
      },
      "execution_count": null,
      "outputs": []
    },
    {
      "cell_type": "code",
      "source": [
        "sp500['target']=(sp500['Tomorrow']> sp500[\"Close\"]).astype(int)\n",
        "sp500"
      ],
      "metadata": {
        "id": "FPfHclGO4wvk"
      },
      "execution_count": null,
      "outputs": []
    },
    {
      "cell_type": "code",
      "source": [
        "sp500=sp500.loc[\"1990-01-01\":].copy()\n",
        "sp500"
      ],
      "metadata": {
        "id": "mSDcHUHh5K6T"
      },
      "execution_count": null,
      "outputs": []
    },
    {
      "cell_type": "code",
      "source": [
        "from sklearn.ensemble import RandomForestClassifier\n",
        "\n",
        "model= RandomForestClassifier(n_estimators=100, min_samples_split=100,random_state=1)\n",
        "\n",
        "train = sp500.iloc[:-100]\n",
        "test = sp500.iloc[-100:]\n",
        "\n",
        "\n",
        "predictors=['Close','Volume',\"Open\",'High',\"Low\"]\n",
        "model.fit(train[predictors],train[\"target\"])"
      ],
      "metadata": {
        "id": "YOqFl8Mh5u8q"
      },
      "execution_count": null,
      "outputs": []
    },
    {
      "cell_type": "code",
      "source": [
        "from sklearn.metrics import precision_score\n",
        "preds=model.predict(test[predictors])"
      ],
      "metadata": {
        "id": "n8ZiFciCRvuJ"
      },
      "execution_count": null,
      "outputs": []
    },
    {
      "cell_type": "code",
      "source": [
        "import pandas as pd\n",
        "preds=pd.Series(preds, index=test.index)\n"
      ],
      "metadata": {
        "id": "KOubAhrlVrag"
      },
      "execution_count": null,
      "outputs": []
    },
    {
      "cell_type": "code",
      "source": [
        "precision_score(test[\"target\"],preds)"
      ],
      "metadata": {
        "id": "7baeFxT8V3D-"
      },
      "execution_count": null,
      "outputs": []
    },
    {
      "cell_type": "code",
      "source": [
        "combined=pd.concat([test[\"target\"],preds],axis=1)"
      ],
      "metadata": {
        "id": "L-FdQTeEWm_c"
      },
      "execution_count": null,
      "outputs": []
    },
    {
      "cell_type": "code",
      "source": [
        "combined.plot()"
      ],
      "metadata": {
        "id": "fc7v_LoWXBS0"
      },
      "execution_count": null,
      "outputs": []
    },
    {
      "cell_type": "markdown",
      "source": [
        "**BackTesting**"
      ],
      "metadata": {
        "id": "0NclkeXnXRbk"
      }
    },
    {
      "cell_type": "code",
      "source": [
        "def predict(train,test,predictors,model):\n",
        "  model.fit(train[predictors],train[\"target\"])\n",
        "  preds=model.predict(test[predictors])\n",
        "  preds=pd.Series(preds,index=test.index,name=\"predictions\")\n",
        "  combined=pd.concat([test[\"target\"],preds],axis=1)\n",
        "  return combined"
      ],
      "metadata": {
        "id": "aEknkHJjXUpn"
      },
      "execution_count": null,
      "outputs": []
    },
    {
      "cell_type": "code",
      "source": [
        "def backtest(data,model,predictors,start=2500,step=250):\n",
        "  all_predictions=[]\n",
        "  for i in range(start,data.shape[0],step):\n",
        "    train=data.iloc[0:i].copy()\n",
        "    test=data.iloc[i:(i+step)].copy()\n",
        "    predictions=predict(train,test,predictors,model)\n",
        "    all_predictions.append(predictions)\n",
        "  return pd.concat(all_predictions)"
      ],
      "metadata": {
        "id": "Mg9HStS3YRgN"
      },
      "execution_count": null,
      "outputs": []
    },
    {
      "cell_type": "code",
      "source": [
        "predictions = backtest(sp500,model,predictors)"
      ],
      "metadata": {
        "id": "NyYA6-rffjCz"
      },
      "execution_count": null,
      "outputs": []
    },
    {
      "cell_type": "code",
      "source": [
        "predictions['predictions'].value_counts()"
      ],
      "metadata": {
        "id": "QVncUfovfrs5"
      },
      "execution_count": null,
      "outputs": []
    },
    {
      "cell_type": "code",
      "source": [
        "precision_score(predictions[\"target\"],predictions['predictions'])"
      ],
      "metadata": {
        "id": "qqJwvl46oKHX"
      },
      "execution_count": null,
      "outputs": []
    }
  ]
}