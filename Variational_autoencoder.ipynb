{
  "nbformat": 4,
  "nbformat_minor": 0,
  "metadata": {
    "colab": {
      "private_outputs": true,
      "provenance": [],
      "mount_file_id": "1VfV_rQhDl_AlIDFovz6FvRT2vgv6uwU_",
      "authorship_tag": "ABX9TyOnG4cQ9bckPW2Bjhs6w7fr",
      "include_colab_link": true
    },
    "kernelspec": {
      "name": "python3",
      "display_name": "Python 3"
    },
    "language_info": {
      "name": "python"
    }
  },
  "cells": [
    {
      "cell_type": "markdown",
      "metadata": {
        "id": "view-in-github",
        "colab_type": "text"
      },
      "source": [
        "<a href=\"https://colab.research.google.com/github/yassine-fetoui/artificial-intelligence/blob/main/Variational_autoencoder.ipynb\" target=\"_parent\"><img src=\"https://colab.research.google.com/assets/colab-badge.svg\" alt=\"Open In Colab\"/></a>"
      ]
    },
    {
      "cell_type": "code",
      "execution_count": null,
      "metadata": {
        "id": "GKhcVadcrrxY"
      },
      "outputs": [],
      "source": [
        "!pip install -q kaggle\n"
      ]
    },
    {
      "cell_type": "code",
      "source": [
        "!mkdir ~/.kaggle\n",
        "!cp '/content/drive/MyDrive/kaggle.json' ~/.kaggle\n",
        "!chmod 600 ~/.kaggle/kaggle.json"
      ],
      "metadata": {
        "id": "zQW2CGGTybms"
      },
      "execution_count": null,
      "outputs": []
    },
    {
      "cell_type": "code",
      "source": [
        "from google.colab import drive\n",
        "drive.mount('/content/drive')"
      ],
      "metadata": {
        "id": "pjYKwJ2g5mOx"
      },
      "execution_count": null,
      "outputs": []
    },
    {
      "cell_type": "markdown",
      "source": [],
      "metadata": {
        "id": "IKqfr-vk3WT6"
      }
    },
    {
      "cell_type": "code",
      "source": [
        "!kaggle datasets download -d scribbless/another-anime-face-dataset"
      ],
      "metadata": {
        "id": "rFW-R1TJ1bzA"
      },
      "execution_count": null,
      "outputs": []
    },
    {
      "cell_type": "code",
      "source": [],
      "metadata": {
        "id": "XHpNI40W1r5y"
      },
      "execution_count": null,
      "outputs": []
    },
    {
      "cell_type": "code",
      "source": [
        "!pip install keras"
      ],
      "metadata": {
        "id": "QCjm96I_cMHv"
      },
      "execution_count": null,
      "outputs": []
    },
    {
      "cell_type": "code",
      "source": [
        "!pip install tensorflow-gpu\n",
        "\n",
        "!pip install python-opencv\n",
        "!pip install matplotlib\n",
        "!pip install numpy"
      ],
      "metadata": {
        "id": "8IZqLkk26eti"
      },
      "execution_count": null,
      "outputs": []
    },
    {
      "cell_type": "code",
      "source": [
        "import tensorflow as tf\n",
        "import numpy as np\n",
        "import matplotlib.pyplot as plt\n",
        "import os\n"
      ],
      "metadata": {
        "id": "3uhMhziE7CK3"
      },
      "execution_count": null,
      "outputs": []
    },
    {
      "cell_type": "code",
      "source": [
        "image_dir =\"/content/animefaces256cleaner\"\n",
        "images = [os.path.join(image_dir,image)for image in os.listdir(image_dir)]\n",
        "images[:2]"
      ],
      "metadata": {
        "id": "IEgoaNOz7N8F"
      },
      "execution_count": null,
      "outputs": []
    },
    {
      "cell_type": "code",
      "source": [
        "#preprocessing\n",
        "image_size=64\n",
        "\n",
        "def preprocessing(image):\n",
        "  image=tf.io.read_file(image)\n",
        "  image=tf.io.decode_jpeg(image)\n",
        "  image=tf.cast(image,tf.float32)\n",
        "  image=tf.image.resize(image,(image_size,image_size))\n",
        "  image=image/255.0\n",
        "  image=tf.reshape(image , shape=(image_size,image_size,3))\n",
        "  return image"
      ],
      "metadata": {
        "id": "Gg-df8se7tfE"
      },
      "execution_count": null,
      "outputs": []
    },
    {
      "cell_type": "code",
      "source": [
        "batch_size=128\n",
        "training_dataset = tf.data.Dataset.from_tensor_slices((images))\n",
        "training_dataset = training_dataset.map(preprocessing)\n",
        "training_dataset = training_dataset.shuffle(1000).batch(batch_size)"
      ],
      "metadata": {
        "id": "XBBoqefzKfc3"
      },
      "execution_count": null,
      "outputs": []
    },
    {
      "cell_type": "code",
      "source": [
        "len(training_dataset)"
      ],
      "metadata": {
        "id": "XsN78I81LLMZ"
      },
      "execution_count": null,
      "outputs": []
    },
    {
      "cell_type": "code",
      "source": [
        "# visualize some of them\n",
        "fig, axes =plt.subplots(5,5,figsize=(14,14))\n",
        "sample = training_dataset.unbatch().take(25)\n",
        "sample= [image for image in sample]\n",
        "idx= 0\n",
        "for row in range(5):\n",
        "  for column in range(5):\n",
        "    axes[row,column ].imshow(sample[idx])\n",
        "    idx+=1\n"
      ],
      "metadata": {
        "id": "Q_Lwv3vGOnrA"
      },
      "execution_count": null,
      "outputs": []
    },
    {
      "cell_type": "code",
      "source": [
        "latent_dim = 512\n",
        "from keras.models import Sequential , Model\n",
        "from keras.layers import LeakyReLU\n",
        "\n",
        "from keras.layers import Dense , Conv2D , Conv2DTranspose , Input , Flatten, BatchNormalization , Lambda, Reshape # Conv2DTranspose = upsamplong\n",
        "from keras.activations import selu\n",
        "from keras.layers import Multiply, Add\n",
        "from keras.optimizers import Adam\n",
        "\n",
        "from keras import backend as k\n"
      ],
      "metadata": {
        "id": "Y079Q-sbRAxI"
      },
      "execution_count": null,
      "outputs": []
    },
    {
      "cell_type": "code",
      "source": [
        "k.clear_session()"
      ],
      "metadata": {
        "id": "p6uWT50MfTgm"
      },
      "execution_count": null,
      "outputs": []
    },
    {
      "cell_type": "code",
      "source": [
        "encoder_input = Input(shape=(64,64,3))\n",
        "x = Conv2D(32 ,kernel_size=5, activation=LeakyReLU(0.02) ,strides=1,padding=\"same\")(encoder_input)\n",
        "x = BatchNormalization()(x)\n",
        "filter_size=[64,128,256,512]\n",
        "for i in filter_size :\n",
        "  x = Conv2D(i ,kernel_size=5, activation=LeakyReLU(0.02) ,strides=2,padding=\"same\")(encoder_input)\n",
        "  x = BatchNormalization()(x)\n",
        "x = Flatten()(x)\n",
        "x = Dense(1024,activation=selu)(x)\n",
        "encoder_output =  BatchNormalization()(x)\n",
        "#sampling layer\n",
        "mu= Dense(latent_dim)(encoder_output)\n",
        "log_var=Dense(latent_dim)(encoder_output)\n",
        "\n",
        "epsilon = k.random_normal(shape=(tf.shape(mu)[0],tf.shape(mu)[1]))\n",
        "sigma = tf.exp(0.5 * log_var)\n",
        "\n",
        "z_eps=Multiply()([epsilon, sigma])\n",
        "z=Add()([mu,z_eps])\n",
        "encoder=Model(encoder_input,outputs=[mu,log_var,z], name='encoder')\n",
        "encoder.summary()"
      ],
      "metadata": {
        "id": "s0d8DsizfWPK"
      },
      "execution_count": null,
      "outputs": []
    },
    {
      "cell_type": "code",
      "source": [
        "#build the decoder\n",
        "decoder = Sequential()\n",
        "decoder.add(Dense(1024,activation=selu, input_shape=(latent_dim,)))\n",
        "decoder.add(BatchNormalization())\n",
        "\n",
        "decoder.add(Dense(8192,activation=selu))\n",
        "decoder.add(Reshape((4,4,512)))\n",
        "\n",
        "decoder.add(Conv2DTranspose(256,(5,5),activation= LeakyReLU(0.02),strides=2,padding='same'))\n",
        "decoder.add(BatchNormalization())\n",
        "\n",
        "decoder.add(Conv2DTranspose(128,(5,5),activation= LeakyReLU(0.02),strides=2,padding='same'))\n",
        "decoder.add(BatchNormalization())\n",
        "\n",
        "decoder.add(Conv2DTranspose(64,(5,5),activation= LeakyReLU(0.02),strides=2,padding='same'))\n",
        "decoder.add(BatchNormalization())\n",
        "\n",
        "decoder.add(Conv2DTranspose(32,(5,5),activation= LeakyReLU(0.02),strides=2,padding='same'))\n",
        "decoder.add(BatchNormalization())\n",
        "\n",
        "decoder.add(Conv2DTranspose(3,(5,5),activation=\"sigmoid\",strides=1,padding='same'))\n",
        "decoder.add(BatchNormalization())\n",
        "\n",
        "decoder.summary()\n",
        "\n"
      ],
      "metadata": {
        "id": "Hj8tRL3CfeN4"
      },
      "execution_count": null,
      "outputs": []
    },
    {
      "cell_type": "code",
      "source": [
        "# make loss function\n",
        "# vae loss = reconstruction loss + kl div\n",
        "\n",
        "def reconstruction_loss(y ,y_pred):\n",
        "  return tf.reduce_mean(tf.square(y -y_pred))\n",
        "\n",
        "def kl_loss(mu,log_var):\n",
        "  loss=-0.5* tf.reduce_mean(1 + log_var - tf.square(mu) - tf.exp(log_var)) # regulerize\n",
        "  return loss\n",
        "\n",
        "def vae_loss(y_true, y_pred , mu,  log_var ) :\n",
        "  return reconstruction_loss(y_true  ,y_pred) + (1/64*64) * kl_loss(mu,log_var)"
      ],
      "metadata": {
        "id": "_MFEdQHZfP5F"
      },
      "execution_count": null,
      "outputs": []
    },
    {
      "cell_type": "code",
      "source": [
        "mu , log_var, z= encoder(encoder_input)\n",
        "reconstructed= decoder(z)\n",
        "model = Model(encoder_input, reconstructed , name='VAE')\n",
        "loss=kl_loss(mu,log_var)\n",
        "model.add_loss(loss)\n",
        "model.summary()\n"
      ],
      "metadata": {
        "id": "lRIlPLnBgTfq"
      },
      "execution_count": null,
      "outputs": []
    },
    {
      "cell_type": "code",
      "source": [
        "def save_images(model,epoch , step , input_):\n",
        "  prediction = model.predict(input_)\n",
        "  fig,axes=plt.subplots(5,5,figsize=(14,14))\n",
        "  idx = 0\n",
        "  for row in range(5):\n",
        "    for column in range(5) :\n",
        "      image = prediction[idx] * 255\n",
        "      image = image.astype('int32')\n",
        "      axes[row, column].imshow(image)\n",
        "      axes[row,column].axis(\"off\") # without coordenation\n",
        "      idx+=1\n",
        "  output_path=\"/content/output\"\n",
        "  if not os.path.exists(output_path):\n",
        "    os.mkdir(output_path)\n",
        "    plt.savefig(output_path + \"Epoch_ {:04d}_step_{:04d}.jpg\".format(epoch , step))\n",
        "    plt.close()"
      ],
      "metadata": {
        "id": "plzcDZJPgQEm"
      },
      "execution_count": null,
      "outputs": []
    },
    {
      "cell_type": "code",
      "source": [
        "#train\n",
        "from keras.optimizers import Adam\n",
        "random_vector = tf.random.normal(shape=(25,latent_dim,))\n",
        "save_images(decoder,0,0,random_vector)\n",
        "mse_losses= []\n",
        "kl_losses = []\n",
        "\n",
        "optimizer = Adam(0.00001,0.5)\n",
        "epochs=100\n",
        "for epoch in range(1,epochs+1):\n",
        "  print(\"Epoch\",epoch)\n",
        "  for step , training_batch in enumerate(training_dataset) :\n",
        "    with tf.GradientTape() as tape:\n",
        "      reconstructed = model(training_batch)\n",
        "      y_true = tf.reshape(training_batch,shape= [-1])\n",
        "      y_pred = tf.reshape(reconstructed , shape = [-1])\n",
        "\n",
        "      mse_loss = reconstruction_loss(y_true,y_pred)\n",
        "      mse_losses.append(mse_loss.numpy())\n",
        "\n",
        "      train_loss = 0.01* mse_loss\n",
        "\n",
        "      grads = tape.gradient(train_loss, model.trainable_variables)\n",
        "      optimizer.apply_gradients(zip(grads,model.trainable_variables))\n",
        "\n",
        "      if step % 10 ==0  :\n",
        "        save_images(decoder,epoch ,step,random_vector)\n",
        "      print(\"Epoch %s -step %s- MSE loss: %s -KL loss: %s\"%(epoch ,step,mse_loss.numpy(),kl.numpy()))\n",
        "\n",
        "\n"
      ],
      "metadata": {
        "id": "GdDqv9XGfi01"
      },
      "execution_count": null,
      "outputs": []
    }
  ]
}